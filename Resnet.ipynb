{
 "cells": [
  {
   "cell_type": "code",
   "execution_count": 53,
   "id": "43dc546e",
   "metadata": {},
   "outputs": [],
   "source": [
    "import torch\n",
    "import torch.nn as nn\n",
    "\n"
   ]
  },
  {
   "cell_type": "code",
   "execution_count": 84,
   "id": "545eb3fa",
   "metadata": {},
   "outputs": [],
   "source": [
    "class block(nn.Module):\n",
    "    \n",
    "    def __init__(self,in_channels,intermediate_channels,identity_downsample=None,stride=1):\n",
    "        super(block,self).__init__()\n",
    "        self.expansion=4\n",
    "        self.conv1=nn.Conv2d(in_channels,intermediate_channels,kernel_size=1,stride=1,padding=0,bias=False)\n",
    "        self.bn1=nn.BatchNorm2d(intermediate_channels)\n",
    "        self.conv2=nn.Conv2d(intermediate_channels,intermediate_channels,kernel_size=3,stride=stride,padding=1,bias=False)\n",
    "        self.bn2=nn.BatchNorm2d(intermediate_channels)\n",
    "        self.conv3=nn.Conv2d(intermediate_channels,intermediate_channels*self.expansion,kernel_size=1,stride=1,padding=0,bias=False)\n",
    "        self.bn3=nn.BatchNorm2d(intermediate_channels*self.expansion)\n",
    "        \n",
    "        self.identity_downsample=identity_downsample\n",
    "        self.relu=nn.ReLU()\n",
    "        self.stride=stride \n",
    "        \n",
    "    def forward(self,x):\n",
    "        identity=x\n",
    "        x=self.conv1(x)\n",
    "        x=self.bn1(x)\n",
    "        x=self.relu(x)\n",
    "        x=self.conv2(x)\n",
    "        x=self.bn2(x)\n",
    "        x=self.relu(x)\n",
    "        x=self.conv3(x)\n",
    "        x=self.bn3(x)\n",
    "        \n",
    "        if self.identity_downsample is not None:\n",
    "            identity=self.identity_downsample(identity)\n",
    "            \n",
    "        x+=identity\n",
    "        x=self.relu(x)\n",
    "        return x"
   ]
  },
  {
   "cell_type": "code",
   "execution_count": 89,
   "id": "2009d6ba",
   "metadata": {},
   "outputs": [],
   "source": [
    "class ResNet(nn.Module): #[3,4,6,3]\n",
    "    \n",
    "    def __init__(self,block,layers,image_channels,num_classes):\n",
    "        super(ResNet,self).__init__()\n",
    "        self.in_channels=64\n",
    "        self.conv1=nn.Conv2d(image_channels,64,kernel_size=7,stride=2,padding=3,bias=False)\n",
    "        self.bn1=nn.BatchNorm2d(64)\n",
    "        self.relu=nn.ReLU()\n",
    "        self.maxpool=nn.MaxPool2d(kernel_size=3,stride=2,padding=1)\n",
    "        \n",
    "        self.layer1=self._make_layer(block,layers[0],intermediate_channels=64,stride=1)\n",
    "        self.layer2=self._make_layer(block,layers[1],intermediate_channels=128,stride=2)\n",
    "        self.layer3=self._make_layer(block,layers[2],intermediate_channels=256,stride=2)\n",
    "        self.layer4=self._make_layer(block,layers[3],intermediate_channels=512,stride=2)\n",
    "        \n",
    "        self.avgpool=nn.AdaptiveAvgPool2d((1,1))\n",
    "        self.fc=nn.Linear(512*4,num_classes)\n",
    "        \n",
    "    def forward(self,x):\n",
    "        x=self.conv1(x)\n",
    "        x=self.bn1(x)\n",
    "        x=self.relu(x)\n",
    "        x=self.maxpool(x)\n",
    "        \n",
    "        x=self.layer1(x)\n",
    "        x=self.layer2(x)\n",
    "        x=self.layer3(x)\n",
    "        x=self.layer4(x)\n",
    "        \n",
    "        x=self.avgpool(x)\n",
    "        x=x.reshape(x.shape[0],-1)\n",
    "        x=self.fc(x)\n",
    "        return x \n",
    "        \n",
    "    def _make_layer(self,block,num_residual_blocks,intermediate_channels,stride):\n",
    "        identity_downsample=None\n",
    "        layers=[]\n",
    "        \n",
    "        if stride!=1 or self.in_channels!=intermediate_channels*4:\n",
    "            \n",
    "            identity_downsample=nn.Sequential(nn.Conv2d(self.in_channels,intermediate_channels*4,kernel_size=1,\n",
    "                                                        stride=stride),nn.BatchNorm2d(intermediate_channels*4))\n",
    "            \n",
    "        layers.append(block(self.in_channels,intermediate_channels,identity_downsample,stride))\n",
    "        self.in_channels=intermediate_channels*4\n",
    "        \n",
    "        for i in range(num_residual_blocks-1):\n",
    "            layers.append(block(self.in_channels,intermediate_channels))\n",
    "            \n",
    "            \n",
    "        return nn.Sequential(*layers)\n",
    "    \n",
    "    \n",
    "        \n",
    "        \n",
    "        \n",
    "        "
   ]
  },
  {
   "cell_type": "code",
   "execution_count": 90,
   "id": "21921197",
   "metadata": {},
   "outputs": [],
   "source": [
    "def ResNet50(img_channels=3,num_classes=1000):\n",
    "    \n",
    "    return ResNet(block,[3,4,6,3],img_channels,num_classes)\n",
    "    "
   ]
  },
  {
   "cell_type": "code",
   "execution_count": 91,
   "id": "a97339f6",
   "metadata": {},
   "outputs": [],
   "source": [
    "def test():\n",
    "    net=ResNet50()\n",
    "    x=torch.randn(2,3,224,224)\n",
    "    y=net(x)\n",
    "    return(y)"
   ]
  },
  {
   "cell_type": "code",
   "execution_count": 92,
   "id": "54692857",
   "metadata": {},
   "outputs": [
    {
     "name": "stdout",
     "output_type": "stream",
     "text": [
      "torch.Size([4, 1000])\n"
     ]
    }
   ],
   "source": [
    "def test():\n",
    "    net = ResNet50(img_channels=3, num_classes=1000)\n",
    "    y = net(torch.randn(4, 3, 224, 224)).to(\"cuda\")\n",
    "    print(y.size())\n",
    "\n",
    "\n",
    "test()"
   ]
  },
  {
   "cell_type": "code",
   "execution_count": null,
   "id": "ab6f508c",
   "metadata": {},
   "outputs": [],
   "source": []
  },
  {
   "cell_type": "code",
   "execution_count": 52,
   "id": "727b89af",
   "metadata": {},
   "outputs": [
    {
     "name": "stdout",
     "output_type": "stream",
     "text": [
      "torch.Size([4, 1000])\n"
     ]
    }
   ],
   "source": []
  },
  {
   "cell_type": "code",
   "execution_count": null,
   "id": "2102aeb4",
   "metadata": {},
   "outputs": [],
   "source": []
  }
 ],
 "metadata": {
  "kernelspec": {
   "display_name": "Python 3",
   "language": "python",
   "name": "python3"
  },
  "language_info": {
   "codemirror_mode": {
    "name": "ipython",
    "version": 3
   },
   "file_extension": ".py",
   "mimetype": "text/x-python",
   "name": "python",
   "nbconvert_exporter": "python",
   "pygments_lexer": "ipython3",
   "version": "3.8.8"
  }
 },
 "nbformat": 4,
 "nbformat_minor": 5
}
