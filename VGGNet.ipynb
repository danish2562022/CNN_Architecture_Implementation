{
 "cells": [
  {
   "cell_type": "code",
   "execution_count": 2,
   "id": "6b7531e7",
   "metadata": {},
   "outputs": [],
   "source": [
    "import torch\n",
    "import torch.nn as nn\n",
    "import torch.optim as optim\n",
    "import torch.nn.functional as F\n",
    "from torch.utils.data import DataLoader\n",
    "import torchvision.datasets as datasets\n",
    "import torchvision.transforms as transfroms"
   ]
  },
  {
   "cell_type": "code",
   "execution_count": 3,
   "id": "5691e251",
   "metadata": {},
   "outputs": [],
   "source": [
    "VGG16=[64,64,'M',128,128,'M',256,256,256,'M',512,512,512,'M',512,512,512,'M']"
   ]
  },
  {
   "cell_type": "code",
   "execution_count": 6,
   "id": "7d3f6545",
   "metadata": {},
   "outputs": [],
   "source": [
    "class VGG_net(nn.Module):\n",
    "    def __init__(self,in_channels,num_classes):\n",
    "        super(VGG_net,self).__init__()\n",
    "        self.in_channels=in_channels\n",
    "        self.conv_layers=self.create_conv_layers(VGG16)\n",
    "        self.fcs=nn.Sequential(nn.Linear(512*7*7,4096),nn.ReLU(),nn.Dropout(0.5),nn.Linear(4096,4096),nn.ReLU(),nn.Dropout(0.5),\n",
    "                              nn.Linear(4096,num_classes))\n",
    "        \n",
    "        \n",
    "    def forward(self,x):\n",
    "        x=self.conv_layers(x)\n",
    "        x=x.reshape(x.shape[0],-1)\n",
    "        x=self.fcs(x)\n",
    "        return x\n",
    "    \n",
    "    def create_conv_layers(self,architecture):\n",
    "        layers=[]\n",
    "        in_channels=self.in_channels\n",
    "        \n",
    "        for x in architecture:\n",
    "            if type(x)==int:\n",
    "                out_channels=x\n",
    "                \n",
    "                layers+=[nn.Conv2d(in_channels=in_channels,out_channels=out_channels,kernel_size=(3,3),stride=(1,1),\n",
    "                                   padding=(1,1)),nn.BatchNorm2d(x),nn.ReLU()]\n",
    "                \n",
    "                in_channels=x\n",
    "            elif x=='M':\n",
    "                layers+=[nn.MaxPool2d(kernel_size=(2,2),stride=(2,2))]\n",
    "            \n",
    "        return nn.Sequential(*layers)"
   ]
  },
  {
   "cell_type": "code",
   "execution_count": 9,
   "id": "cfd4edd7",
   "metadata": {},
   "outputs": [
    {
     "name": "stdout",
     "output_type": "stream",
     "text": [
      "torch.Size([1, 1000])\n"
     ]
    }
   ],
   "source": [
    "device ='cuda' if torch.cuda.is_available() else 'cpu'\n",
    "model=VGG_net(in_channels=3,num_classes=1000).to(device)\n",
    "x=torch.randn(1,3,224,224).to(device)\n",
    "print(model(x).shape)"
   ]
  },
  {
   "cell_type": "code",
   "execution_count": null,
   "id": "92feec7d",
   "metadata": {},
   "outputs": [],
   "source": []
  }
 ],
 "metadata": {
  "kernelspec": {
   "display_name": "Python 3",
   "language": "python",
   "name": "python3"
  },
  "language_info": {
   "codemirror_mode": {
    "name": "ipython",
    "version": 3
   },
   "file_extension": ".py",
   "mimetype": "text/x-python",
   "name": "python",
   "nbconvert_exporter": "python",
   "pygments_lexer": "ipython3",
   "version": "3.8.8"
  }
 },
 "nbformat": 4,
 "nbformat_minor": 5
}
