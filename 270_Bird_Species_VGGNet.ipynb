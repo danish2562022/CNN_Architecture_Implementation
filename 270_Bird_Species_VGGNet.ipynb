{
 "cells": [
  {
   "cell_type": "code",
   "execution_count": 2,
   "id": "6de75eb5",
   "metadata": {},
   "outputs": [],
   "source": [
    "import os\n",
    "import cv2\n",
    "import time\n",
    "import numpy as np"
   ]
  },
  {
   "cell_type": "code",
   "execution_count": 3,
   "id": "136d0205",
   "metadata": {},
   "outputs": [],
   "source": [
    "import torch\n",
    "import torch.nn as nn\n",
    "import torch.nn.functional as F"
   ]
  },
  {
   "cell_type": "code",
   "execution_count": 4,
   "id": "19810d4c",
   "metadata": {},
   "outputs": [],
   "source": [
    "from torch.utils.data import DataLoader,Dataset\n",
    "from torch.utils.data import RandomSampler\n",
    "\n"
   ]
  },
  {
   "cell_type": "code",
   "execution_count": 5,
   "id": "d2f01040",
   "metadata": {},
   "outputs": [],
   "source": [
    "import torchvision.transforms as T\n",
    "import torchvision.models as models\n",
    "from torchvision.utils import make_grid\n",
    "from torchvision.datasets import ImageFolder\n"
   ]
  },
  {
   "cell_type": "code",
   "execution_count": 6,
   "id": "1f8aba80",
   "metadata": {},
   "outputs": [],
   "source": [
    "from matplotlib import pyplot as plt"
   ]
  },
  {
   "cell_type": "code",
   "execution_count": 21,
   "id": "6be0e4bd",
   "metadata": {},
   "outputs": [],
   "source": [
    "TRAIN_DIR=r\"C:\\Users\\MD DANISH ANWER\\species\\train\\\\\"\n",
    "TEST_DIR=r\"C:\\Users\\MD DANISH ANWER\\species\\test\\\\\"\n",
    "VALID_DIR=r\"C:\\Users\\MD DANISH ANWER\\species\\valid\\\\\""
   ]
  },
  {
   "cell_type": "code",
   "execution_count": 22,
   "id": "d992d669",
   "metadata": {},
   "outputs": [
    {
     "name": "stdout",
     "output_type": "stream",
     "text": [
      "Total Number of Classes:  270\n"
     ]
    }
   ],
   "source": [
    "classes=os.listdir(TRAIN_DIR)\n",
    "print(\"Total Number of Classes: \",len(classes))"
   ]
  },
  {
   "cell_type": "code",
   "execution_count": 24,
   "id": "cf825012",
   "metadata": {},
   "outputs": [
    {
     "name": "stdout",
     "output_type": "stream",
     "text": [
      "Number of Train Images:  38518\n",
      "Number of validation Images:  1350\n",
      "Number of Test Images:  1350\n"
     ]
    }
   ],
   "source": [
    "Number_of_training_images=0\n",
    "Number_of_test_images=0\n",
    "Number_of_validation_images=0\n",
    "\n",
    "for class_ in classes:\n",
    "    Number_of_training_images+=len(os.listdir(TRAIN_DIR+ class_))\n",
    "    Number_of_test_images+=len(os.listdir(TEST_DIR + class_))\n",
    "    Number_of_validation_images+=len(os.listdir(VALID_DIR + class_))\n",
    "print(\"Number of Train Images: \",Number_of_training_images )\n",
    "print(\"Number of validation Images: \",Number_of_validation_images )\n",
    "print(\"Number of Test Images: \",Number_of_test_images )"
   ]
  },
  {
   "cell_type": "code",
   "execution_count": null,
   "id": "02585546",
   "metadata": {},
   "outputs": [],
   "source": []
  }
 ],
 "metadata": {
  "kernelspec": {
   "display_name": "Python 3",
   "language": "python",
   "name": "python3"
  },
  "language_info": {
   "codemirror_mode": {
    "name": "ipython",
    "version": 3
   },
   "file_extension": ".py",
   "mimetype": "text/x-python",
   "name": "python",
   "nbconvert_exporter": "python",
   "pygments_lexer": "ipython3",
   "version": "3.8.8"
  }
 },
 "nbformat": 4,
 "nbformat_minor": 5
}
